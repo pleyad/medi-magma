{
 "cells": [
  {
   "cell_type": "code",
   "execution_count": 14,
   "metadata": {},
   "outputs": [],
   "source": [
    "import pandas as pd\n",
    "from pathlib import Path\n",
    "import subprocess"
   ]
  },
  {
   "attachments": {},
   "cell_type": "markdown",
   "metadata": {},
   "source": [
    "# MIMIC"
   ]
  },
  {
   "cell_type": "code",
   "execution_count": 6,
   "metadata": {},
   "outputs": [],
   "source": [
    "ORIG_CSV = Path(\"<path>/physionet.org/files/mimic-cxr-jpg/2.0.0/mimic-cxr-2.0.0-metadata.csv\")\n",
    "ORIG_SPLITCSV = Path(\"<path>/physionet.org/files/mimic-cxr-jpg/2.0.0/mimic-cxr-2.0.0-split.csv\")\n",
    "FILEPATH = Path(\"<path>/physionet.org/files/mimic-cxr-jpg/2.0.0/files/\")"
   ]
  },
  {
   "cell_type": "code",
   "execution_count": 7,
   "metadata": {},
   "outputs": [],
   "source": [
    "df = pd.read_csv(ORIG_CSV)\n",
    "split_df = pd.read_csv(ORIG_SPLITCSV)"
   ]
  },
  {
   "cell_type": "code",
   "execution_count": 10,
   "metadata": {},
   "outputs": [
    {
     "data": {
      "text/html": [
       "<div>\n",
       "<style scoped>\n",
       "    .dataframe tbody tr th:only-of-type {\n",
       "        vertical-align: middle;\n",
       "    }\n",
       "\n",
       "    .dataframe tbody tr th {\n",
       "        vertical-align: top;\n",
       "    }\n",
       "\n",
       "    .dataframe thead th {\n",
       "        text-align: right;\n",
       "    }\n",
       "</style>\n",
       "<table border=\"1\" class=\"dataframe\">\n",
       "  <thead>\n",
       "    <tr style=\"text-align: right;\">\n",
       "      <th></th>\n",
       "      <th>dicom_id</th>\n",
       "      <th>study_id</th>\n",
       "      <th>subject_id</th>\n",
       "      <th>split</th>\n",
       "    </tr>\n",
       "  </thead>\n",
       "  <tbody>\n",
       "    <tr>\n",
       "      <th>0</th>\n",
       "      <td>02aa804e-bde0afdd-112c0b34-7bc16630-4e384014</td>\n",
       "      <td>50414267</td>\n",
       "      <td>10000032</td>\n",
       "      <td>train</td>\n",
       "    </tr>\n",
       "    <tr>\n",
       "      <th>1</th>\n",
       "      <td>174413ec-4ec4c1f7-34ea26b7-c5f994f8-79ef1962</td>\n",
       "      <td>50414267</td>\n",
       "      <td>10000032</td>\n",
       "      <td>train</td>\n",
       "    </tr>\n",
       "    <tr>\n",
       "      <th>2</th>\n",
       "      <td>2a2277a9-b0ded155-c0de8eb9-c124d10e-82c5caab</td>\n",
       "      <td>53189527</td>\n",
       "      <td>10000032</td>\n",
       "      <td>train</td>\n",
       "    </tr>\n",
       "    <tr>\n",
       "      <th>3</th>\n",
       "      <td>e084de3b-be89b11e-20fe3f9f-9c8d8dfe-4cfd202c</td>\n",
       "      <td>53189527</td>\n",
       "      <td>10000032</td>\n",
       "      <td>train</td>\n",
       "    </tr>\n",
       "    <tr>\n",
       "      <th>4</th>\n",
       "      <td>68b5c4b1-227d0485-9cc38c3f-7b84ab51-4b472714</td>\n",
       "      <td>53911762</td>\n",
       "      <td>10000032</td>\n",
       "      <td>train</td>\n",
       "    </tr>\n",
       "    <tr>\n",
       "      <th>...</th>\n",
       "      <td>...</td>\n",
       "      <td>...</td>\n",
       "      <td>...</td>\n",
       "      <td>...</td>\n",
       "    </tr>\n",
       "    <tr>\n",
       "      <th>377105</th>\n",
       "      <td>428e2c18-5721d8f3-35a05001-36f3d080-9053b83c</td>\n",
       "      <td>57132437</td>\n",
       "      <td>19999733</td>\n",
       "      <td>train</td>\n",
       "    </tr>\n",
       "    <tr>\n",
       "      <th>377106</th>\n",
       "      <td>58c403aa-35ff8bd9-73e39f54-8dc9cc5d-e0ec3fa9</td>\n",
       "      <td>57132437</td>\n",
       "      <td>19999733</td>\n",
       "      <td>train</td>\n",
       "    </tr>\n",
       "    <tr>\n",
       "      <th>377107</th>\n",
       "      <td>58766883-376a15ce-3b323a28-6af950a0-16b793bd</td>\n",
       "      <td>55368167</td>\n",
       "      <td>19999987</td>\n",
       "      <td>train</td>\n",
       "    </tr>\n",
       "    <tr>\n",
       "      <th>377108</th>\n",
       "      <td>7ba273af-3d290f8d-e28d0ab4-484b7a86-7fc12b08</td>\n",
       "      <td>58621812</td>\n",
       "      <td>19999987</td>\n",
       "      <td>train</td>\n",
       "    </tr>\n",
       "    <tr>\n",
       "      <th>377109</th>\n",
       "      <td>1a1fe7e3-cbac5d93-b339aeda-86bb86b5-4f31e82e</td>\n",
       "      <td>58971208</td>\n",
       "      <td>19999987</td>\n",
       "      <td>train</td>\n",
       "    </tr>\n",
       "  </tbody>\n",
       "</table>\n",
       "<p>377110 rows × 4 columns</p>\n",
       "</div>"
      ],
      "text/plain": [
       "                                            dicom_id  study_id  subject_id  \\\n",
       "0       02aa804e-bde0afdd-112c0b34-7bc16630-4e384014  50414267    10000032   \n",
       "1       174413ec-4ec4c1f7-34ea26b7-c5f994f8-79ef1962  50414267    10000032   \n",
       "2       2a2277a9-b0ded155-c0de8eb9-c124d10e-82c5caab  53189527    10000032   \n",
       "3       e084de3b-be89b11e-20fe3f9f-9c8d8dfe-4cfd202c  53189527    10000032   \n",
       "4       68b5c4b1-227d0485-9cc38c3f-7b84ab51-4b472714  53911762    10000032   \n",
       "...                                              ...       ...         ...   \n",
       "377105  428e2c18-5721d8f3-35a05001-36f3d080-9053b83c  57132437    19999733   \n",
       "377106  58c403aa-35ff8bd9-73e39f54-8dc9cc5d-e0ec3fa9  57132437    19999733   \n",
       "377107  58766883-376a15ce-3b323a28-6af950a0-16b793bd  55368167    19999987   \n",
       "377108  7ba273af-3d290f8d-e28d0ab4-484b7a86-7fc12b08  58621812    19999987   \n",
       "377109  1a1fe7e3-cbac5d93-b339aeda-86bb86b5-4f31e82e  58971208    19999987   \n",
       "\n",
       "        split  \n",
       "0       train  \n",
       "1       train  \n",
       "2       train  \n",
       "3       train  \n",
       "4       train  \n",
       "...       ...  \n",
       "377105  train  \n",
       "377106  train  \n",
       "377107  train  \n",
       "377108  train  \n",
       "377109  train  \n",
       "\n",
       "[377110 rows x 4 columns]"
      ]
     },
     "execution_count": 10,
     "metadata": {},
     "output_type": "execute_result"
    }
   ],
   "source": [
    "split_df"
   ]
  },
  {
   "cell_type": "code",
   "execution_count": 9,
   "metadata": {},
   "outputs": [
    {
     "data": {
      "text/plain": [
       "split\n",
       "train       368960\n",
       "test          5159\n",
       "validate      2991\n",
       "Name: count, dtype: int64"
      ]
     },
     "execution_count": 9,
     "metadata": {},
     "output_type": "execute_result"
    }
   ],
   "source": [
    "split_df.value_counts(\"split\")"
   ]
  },
  {
   "attachments": {},
   "cell_type": "markdown",
   "metadata": {},
   "source": [
    "## Test"
   ]
  },
  {
   "cell_type": "code",
   "execution_count": 16,
   "metadata": {},
   "outputs": [
    {
     "name": "stdout",
     "output_type": "stream",
     "text": [
      "Original test set contained 5159 images from 3269 studies.\n",
      "Preprocessed test set contains 2728 images and studies.\n",
      "Retained 52.88% of images and 83.45% of studies.\n"
     ]
    }
   ],
   "source": [
    "orig_img = len(split_df[split_df[\"split\"] == \"test\"])\n",
    "orig_studies = len(split_df[split_df[\"split\"] == \"test\"][\"study_id\"].unique())\n",
    "\n",
    "preprocessed_test_path = Path(\"<path>/prepared_mimic-cxr/test/image_data/\")\n",
    "\n",
    "# Count json files in subdirectories of preprocessed test set\n",
    "preprocessed_test_img = len(list(preprocessed_test_path.glob(\"**/*.json\")))\n",
    "\n",
    "print(f\"Original test set contained {orig_img} images from {orig_studies} studies.\")\n",
    "print(f\"Preprocessed test set contains {preprocessed_test_img} images and studies.\")\n",
    "\n",
    "# Retain percentage\n",
    "print(f\"Retained {round(preprocessed_test_img / orig_img * 100, 2)}% of images and {round(preprocessed_test_img / orig_studies * 100, 2)}% of studies.\")"
   ]
  },
  {
   "attachments": {},
   "cell_type": "markdown",
   "metadata": {},
   "source": [
    "## Validation"
   ]
  },
  {
   "cell_type": "code",
   "execution_count": 19,
   "metadata": {},
   "outputs": [
    {
     "name": "stdout",
     "output_type": "stream",
     "text": [
      "Original validation set contained 2991 images from 1808 studies.\n",
      "Preprocessed validation set contains 1654 images and studies.\n",
      "Retained 55.3% of images and 91.48% of studies.\n"
     ]
    }
   ],
   "source": [
    "orig_img = len(split_df[split_df[\"split\"] == \"validate\"])\n",
    "orig_studies = len(split_df[split_df[\"split\"] == \"validate\"][\"study_id\"].unique())\n",
    "\n",
    "preprocessed_test_path = Path(\"<path>/prepared_mimic-cxr/validate/image_data/\")\n",
    "\n",
    "# Count json files in subdirectories of preprocessed test set\n",
    "preprocessed_test_img = len(list(preprocessed_test_path.glob(\"**/*.json\")))\n",
    "\n",
    "print(f\"Original validation set contained {orig_img} images from {orig_studies} studies.\")\n",
    "print(f\"Preprocessed validation set contains {preprocessed_test_img} images and studies.\")\n",
    "\n",
    "# Retain percentage\n",
    "print(f\"Retained {round(preprocessed_test_img / orig_img * 100, 2)}% of images and {round(preprocessed_test_img / orig_studies * 100, 2)}% of studies.\")"
   ]
  },
  {
   "attachments": {},
   "cell_type": "markdown",
   "metadata": {},
   "source": [
    "## IU-XRAY"
   ]
  },
  {
   "cell_type": "code",
   "execution_count": 21,
   "metadata": {},
   "outputs": [
    {
     "data": {
      "text/html": [
       "<div>\n",
       "<style scoped>\n",
       "    .dataframe tbody tr th:only-of-type {\n",
       "        vertical-align: middle;\n",
       "    }\n",
       "\n",
       "    .dataframe tbody tr th {\n",
       "        vertical-align: top;\n",
       "    }\n",
       "\n",
       "    .dataframe thead th {\n",
       "        text-align: right;\n",
       "    }\n",
       "</style>\n",
       "<table border=\"1\" class=\"dataframe\">\n",
       "  <thead>\n",
       "    <tr style=\"text-align: right;\">\n",
       "      <th></th>\n",
       "      <th>uid</th>\n",
       "      <th>filename</th>\n",
       "      <th>projection</th>\n",
       "    </tr>\n",
       "  </thead>\n",
       "  <tbody>\n",
       "    <tr>\n",
       "      <th>0</th>\n",
       "      <td>1</td>\n",
       "      <td>1_IM-0001-4001.dcm.png</td>\n",
       "      <td>Frontal</td>\n",
       "    </tr>\n",
       "    <tr>\n",
       "      <th>1</th>\n",
       "      <td>1</td>\n",
       "      <td>1_IM-0001-3001.dcm.png</td>\n",
       "      <td>Lateral</td>\n",
       "    </tr>\n",
       "    <tr>\n",
       "      <th>2</th>\n",
       "      <td>2</td>\n",
       "      <td>2_IM-0652-1001.dcm.png</td>\n",
       "      <td>Frontal</td>\n",
       "    </tr>\n",
       "    <tr>\n",
       "      <th>3</th>\n",
       "      <td>2</td>\n",
       "      <td>2_IM-0652-2001.dcm.png</td>\n",
       "      <td>Lateral</td>\n",
       "    </tr>\n",
       "    <tr>\n",
       "      <th>4</th>\n",
       "      <td>3</td>\n",
       "      <td>3_IM-1384-1001.dcm.png</td>\n",
       "      <td>Frontal</td>\n",
       "    </tr>\n",
       "    <tr>\n",
       "      <th>...</th>\n",
       "      <td>...</td>\n",
       "      <td>...</td>\n",
       "      <td>...</td>\n",
       "    </tr>\n",
       "    <tr>\n",
       "      <th>7461</th>\n",
       "      <td>3997</td>\n",
       "      <td>3997_IM-2048-1002.dcm.png</td>\n",
       "      <td>Lateral</td>\n",
       "    </tr>\n",
       "    <tr>\n",
       "      <th>7462</th>\n",
       "      <td>3998</td>\n",
       "      <td>3998_IM-2048-1001.dcm.png</td>\n",
       "      <td>Frontal</td>\n",
       "    </tr>\n",
       "    <tr>\n",
       "      <th>7463</th>\n",
       "      <td>3998</td>\n",
       "      <td>3998_IM-2048-1002.dcm.png</td>\n",
       "      <td>Lateral</td>\n",
       "    </tr>\n",
       "    <tr>\n",
       "      <th>7464</th>\n",
       "      <td>3999</td>\n",
       "      <td>3999_IM-2049-1001.dcm.png</td>\n",
       "      <td>Frontal</td>\n",
       "    </tr>\n",
       "    <tr>\n",
       "      <th>7465</th>\n",
       "      <td>3999</td>\n",
       "      <td>3999_IM-2049-2001.dcm.png</td>\n",
       "      <td>Lateral</td>\n",
       "    </tr>\n",
       "  </tbody>\n",
       "</table>\n",
       "<p>7466 rows × 3 columns</p>\n",
       "</div>"
      ],
      "text/plain": [
       "       uid                   filename projection\n",
       "0        1     1_IM-0001-4001.dcm.png    Frontal\n",
       "1        1     1_IM-0001-3001.dcm.png    Lateral\n",
       "2        2     2_IM-0652-1001.dcm.png    Frontal\n",
       "3        2     2_IM-0652-2001.dcm.png    Lateral\n",
       "4        3     3_IM-1384-1001.dcm.png    Frontal\n",
       "...    ...                        ...        ...\n",
       "7461  3997  3997_IM-2048-1002.dcm.png    Lateral\n",
       "7462  3998  3998_IM-2048-1001.dcm.png    Frontal\n",
       "7463  3998  3998_IM-2048-1002.dcm.png    Lateral\n",
       "7464  3999  3999_IM-2049-1001.dcm.png    Frontal\n",
       "7465  3999  3999_IM-2049-2001.dcm.png    Lateral\n",
       "\n",
       "[7466 rows x 3 columns]"
      ]
     },
     "execution_count": 21,
     "metadata": {},
     "output_type": "execute_result"
    }
   ],
   "source": [
    "df = pd.read_csv(\"<path>/iu-xray/indiana_projections.csv\")\n",
    "df"
   ]
  },
  {
   "cell_type": "code",
   "execution_count": 23,
   "metadata": {},
   "outputs": [
    {
     "name": "stdout",
     "output_type": "stream",
     "text": [
      "Original IU-XRAY contained 7466 images from 3851 studies.\n",
      "Preprocessed IU-XRAY contains 3666 images and studies.\n",
      "Retained 49.1% of images and 95.2% of studies.\n"
     ]
    }
   ],
   "source": [
    "orig_studies = len(df[\"uid\"].unique())\n",
    "orig_img = len(df)\n",
    "\n",
    "preprocessed_test_path = Path(\"<path>/prepared_iu-xray/image_data/\")\n",
    "preprocessed_test_img = len(list(preprocessed_test_path.glob(\"**/*.json\")))\n",
    "\n",
    "print(f\"Original IU-XRAY contained {orig_img} images from {orig_studies} studies.\")\n",
    "print(f\"Preprocessed IU-XRAY contains {preprocessed_test_img} images and studies.\")\n",
    "\n",
    "# Retain percentage\n",
    "print(f\"Retained {round(preprocessed_test_img / orig_img * 100, 2)}% of images and {round(preprocessed_test_img / orig_studies * 100, 2)}% of studies.\")"
   ]
  }
 ],
 "metadata": {
  "kernelspec": {
   "display_name": "magma_venv",
   "language": "python",
   "name": "python3"
  },
  "language_info": {
   "codemirror_mode": {
    "name": "ipython",
    "version": 3
   },
   "file_extension": ".py",
   "mimetype": "text/x-python",
   "name": "python",
   "nbconvert_exporter": "python",
   "pygments_lexer": "ipython3",
   "version": "3.9.16"
  },
  "orig_nbformat": 4
 },
 "nbformat": 4,
 "nbformat_minor": 2
}
