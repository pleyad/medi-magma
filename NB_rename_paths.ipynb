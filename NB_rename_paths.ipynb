{
 "cells": [
  {
   "cell_type": "code",
   "execution_count": 1,
   "metadata": {},
   "outputs": [],
   "source": [
    "import json\n",
    "from pathlib import Path\n",
    "import subprocess"
   ]
  },
  {
   "cell_type": "code",
   "execution_count": 2,
   "metadata": {},
   "outputs": [],
   "source": [
    "DATA = Path(\"/srv/scratch1/nbodenmann/prepared_iuxray_mimic_combined/train\")\n",
    "prefix = \"iuxray\""
   ]
  },
  {
   "cell_type": "code",
   "execution_count": 5,
   "metadata": {},
   "outputs": [],
   "source": [
    "images_dir = DATA / \"images\"\n",
    "image_data_dir = DATA / \"image_data\"\n",
    "\n",
    "# Rename the directories in images_dir by adding the prefix\n",
    "for directory in images_dir.iterdir():\n",
    "    if not directory.name.startswith(prefix):\n",
    "        directory.rename(images_dir / f\"{prefix}_{directory.name}\")\n",
    "\n",
    "# Rename the directories in image_data_dir by adding the prefix\n",
    "for directory in image_data_dir.iterdir():\n",
    "    if not directory.name.startswith(prefix):\n",
    "        directory.rename(image_data_dir / f\"{prefix}_{directory.name}\")"
   ]
  },
  {
   "cell_type": "code",
   "execution_count": 7,
   "metadata": {},
   "outputs": [],
   "source": [
    "for jsonpath in image_data_dir.glob(\"*/*.json\"):\n",
    "    with open(jsonpath) as f:\n",
    "        data = json.load(f)\n",
    "\n",
    "    original_path = data[\"image_path\"]\n",
    "    parts = original_path.split(\"/\")\n",
    "    new_path = parts[0] + \"/\" + prefix + \"_\" + parts[1] + \"/\" + parts[2]\n",
    "\n",
    "    data[\"image_path\"] = new_path\n",
    "\n",
    "    with open(jsonpath, \"w\") as f:\n",
    "        json.dump(data, f)"
   ]
  }
 ],
 "metadata": {
  "kernelspec": {
   "display_name": "Python 3",
   "language": "python",
   "name": "python3"
  },
  "language_info": {
   "codemirror_mode": {
    "name": "ipython",
    "version": 3
   },
   "file_extension": ".py",
   "mimetype": "text/x-python",
   "name": "python",
   "nbconvert_exporter": "python",
   "pygments_lexer": "ipython3",
   "version": "3.9.16"
  },
  "orig_nbformat": 4
 },
 "nbformat": 4,
 "nbformat_minor": 2
}
